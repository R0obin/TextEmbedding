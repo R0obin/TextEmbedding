{
 "cells": [
  {
   "cell_type": "code",
   "execution_count": 6,
   "id": "bfa5a768-b224-4b86-804b-4867815eb056",
   "metadata": {},
   "outputs": [],
   "source": [
    "from tensorflow.keras.preprocessing.text import one_hot"
   ]
  },
  {
   "cell_type": "code",
   "execution_count": 2,
   "id": "460b2802-775f-4aa7-be9c-727358d59fe8",
   "metadata": {},
   "outputs": [],
   "source": [
    "sentences_array = [\n",
    "    \"The sun is shining brightly today.\",\n",
    "    \"Birds are singing in the trees.\",\n",
    "    \"I enjoy drinking a cup of coffee in the morning.\",\n",
    "    \"Learning new things is always exciting.\",\n",
    "    \"The flowers in the garden are blooming.\",\n",
    "    \"My favorite color is blue.\",\n",
    "    \"We are planning a trip to the mountains.\",\n",
    "    \"Reading a good book can be very relaxing.\",\n",
    "    \"The food at the new restaurant was delicious.\",\n",
    "    \"Kindness and understanding are important qualities.\"\n",
    "]"
   ]
  },
  {
   "cell_type": "code",
   "execution_count": 10,
   "id": "056c62d3-816c-4094-88ab-a0d7b604257c",
   "metadata": {},
   "outputs": [],
   "source": [
    "voc_size = 10000"
   ]
  },
  {
   "cell_type": "code",
   "execution_count": 14,
   "id": "7ff45fd7-b2c8-4deb-8bdf-4af67a9d24bc",
   "metadata": {},
   "outputs": [],
   "source": [
    "embd_sent = [one_hot(words,voc_size)for words in sentences_array]"
   ]
  },
  {
   "cell_type": "code",
   "execution_count": 16,
   "id": "f7c2d22e-a549-46c9-bdbc-8f6f208c4741",
   "metadata": {},
   "outputs": [
    {
     "data": {
      "text/plain": [
       "[[2881, 46, 8837, 2033, 7879, 5295],\n",
       " [256, 7783, 4163, 7561, 2881, 2910],\n",
       " [3501, 2392, 3658, 8244, 5114, 4251, 4670, 7561, 2881, 9367],\n",
       " [3610, 3014, 7423, 8837, 3397, 5828],\n",
       " [2881, 4431, 7561, 2881, 2870, 7783, 7832],\n",
       " [3359, 9206, 3567, 8837, 3068],\n",
       " [5521, 7783, 5863, 8244, 1010, 1835, 2881, 6796],\n",
       " [8792, 8244, 1140, 5715, 3747, 6047, 9989, 217],\n",
       " [2881, 9639, 344, 2881, 3014, 7224, 9502, 1040],\n",
       " [643, 9523, 4985, 7783, 9642, 8447]]"
      ]
     },
     "execution_count": 16,
     "metadata": {},
     "output_type": "execute_result"
    }
   ],
   "source": [
    "embd_sent"
   ]
  },
  {
   "cell_type": "code",
   "execution_count": 18,
   "id": "3ef42020-0ee0-4640-8959-b219a2a86a9a",
   "metadata": {},
   "outputs": [],
   "source": [
    "from tensorflow.keras.preprocessing.sequence import pad_sequences\n",
    "from tensorflow.keras.models import Sequential\n",
    "from tensorflow.keras.layers import Embedding"
   ]
  },
  {
   "cell_type": "code",
   "execution_count": 28,
   "id": "0499c8e9-29f2-4d46-9876-52ae211a7dba",
   "metadata": {},
   "outputs": [],
   "source": [
    "dimension = 15"
   ]
  },
  {
   "cell_type": "code",
   "execution_count": 30,
   "id": "dd53d6e0-2178-4aea-b33a-5a524d0b35ed",
   "metadata": {},
   "outputs": [],
   "source": [
    "pad = pad_sequences(embd_sent,padding='pre',maxlen=dimension)"
   ]
  },
  {
   "cell_type": "code",
   "execution_count": 32,
   "id": "f9b95201-4b98-4aaf-998c-0e7867c7cdb1",
   "metadata": {},
   "outputs": [
    {
     "data": {
      "text/plain": [
       "array([[   0,    0,    0,    0,    0,    0,    0,    0,    0, 2881,   46,\n",
       "        8837, 2033, 7879, 5295],\n",
       "       [   0,    0,    0,    0,    0,    0,    0,    0,    0,  256, 7783,\n",
       "        4163, 7561, 2881, 2910],\n",
       "       [   0,    0,    0,    0,    0, 3501, 2392, 3658, 8244, 5114, 4251,\n",
       "        4670, 7561, 2881, 9367],\n",
       "       [   0,    0,    0,    0,    0,    0,    0,    0,    0, 3610, 3014,\n",
       "        7423, 8837, 3397, 5828],\n",
       "       [   0,    0,    0,    0,    0,    0,    0,    0, 2881, 4431, 7561,\n",
       "        2881, 2870, 7783, 7832],\n",
       "       [   0,    0,    0,    0,    0,    0,    0,    0,    0,    0, 3359,\n",
       "        9206, 3567, 8837, 3068],\n",
       "       [   0,    0,    0,    0,    0,    0,    0, 5521, 7783, 5863, 8244,\n",
       "        1010, 1835, 2881, 6796],\n",
       "       [   0,    0,    0,    0,    0,    0,    0, 8792, 8244, 1140, 5715,\n",
       "        3747, 6047, 9989,  217],\n",
       "       [   0,    0,    0,    0,    0,    0,    0, 2881, 9639,  344, 2881,\n",
       "        3014, 7224, 9502, 1040],\n",
       "       [   0,    0,    0,    0,    0,    0,    0,    0,    0,  643, 9523,\n",
       "        4985, 7783, 9642, 8447]], dtype=int32)"
      ]
     },
     "execution_count": 32,
     "metadata": {},
     "output_type": "execute_result"
    }
   ],
   "source": [
    "pad"
   ]
  },
  {
   "cell_type": "code",
   "execution_count": 34,
   "id": "e5e0f34f-ee97-40ff-93ef-33b9a5d427ba",
   "metadata": {},
   "outputs": [
    {
     "name": "stderr",
     "output_type": "stream",
     "text": [
      "/opt/anaconda3/lib/python3.12/site-packages/keras/src/layers/core/embedding.py:90: UserWarning: Argument `input_length` is deprecated. Just remove it.\n",
      "  warnings.warn(\n"
     ]
    }
   ],
   "source": [
    "model = Sequential()\n",
    "model.add(Embedding(voc_size,10,input_length=dimension))\n",
    "model.compile('adam','mse')\n"
   ]
  },
  {
   "cell_type": "code",
   "execution_count": 36,
   "id": "813500ef-06c2-4409-9d17-3adff06ca9b9",
   "metadata": {},
   "outputs": [
    {
     "name": "stdout",
     "output_type": "stream",
     "text": [
      "\u001b[1m1/1\u001b[0m \u001b[32m━━━━━━━━━━━━━━━━━━━━\u001b[0m\u001b[37m\u001b[0m \u001b[1m0s\u001b[0m 109ms/step\n"
     ]
    },
    {
     "data": {
      "text/plain": [
       "array([[[ 0.03032095, -0.02096602, -0.02323606, ..., -0.01869579,\n",
       "          0.03066248, -0.04427495],\n",
       "        [ 0.03032095, -0.02096602, -0.02323606, ..., -0.01869579,\n",
       "          0.03066248, -0.04427495],\n",
       "        [ 0.03032095, -0.02096602, -0.02323606, ..., -0.01869579,\n",
       "          0.03066248, -0.04427495],\n",
       "        ...,\n",
       "        [ 0.01867156,  0.01845234, -0.04882076, ..., -0.04459944,\n",
       "         -0.0113645 ,  0.02204959],\n",
       "        [-0.03641357, -0.03427955,  0.02130736, ...,  0.02481486,\n",
       "          0.03459759, -0.01778986],\n",
       "        [ 0.03119748, -0.04026855, -0.03741449, ..., -0.00215328,\n",
       "         -0.04810129, -0.02310981]],\n",
       "\n",
       "       [[ 0.03032095, -0.02096602, -0.02323606, ..., -0.01869579,\n",
       "          0.03066248, -0.04427495],\n",
       "        [ 0.03032095, -0.02096602, -0.02323606, ..., -0.01869579,\n",
       "          0.03066248, -0.04427495],\n",
       "        [ 0.03032095, -0.02096602, -0.02323606, ..., -0.01869579,\n",
       "          0.03066248, -0.04427495],\n",
       "        ...,\n",
       "        [ 0.0137325 , -0.04943261,  0.02170804, ...,  0.01807571,\n",
       "          0.00421626, -0.02734009],\n",
       "        [ 0.01247823,  0.02827907,  0.02457387, ...,  0.01969038,\n",
       "          0.00136918,  0.02235809],\n",
       "        [-0.02139819,  0.04629734, -0.03714781, ...,  0.02183792,\n",
       "         -0.03003893,  0.02359705]],\n",
       "\n",
       "       [[ 0.03032095, -0.02096602, -0.02323606, ..., -0.01869579,\n",
       "          0.03066248, -0.04427495],\n",
       "        [ 0.03032095, -0.02096602, -0.02323606, ..., -0.01869579,\n",
       "          0.03066248, -0.04427495],\n",
       "        [ 0.03032095, -0.02096602, -0.02323606, ..., -0.01869579,\n",
       "          0.03066248, -0.04427495],\n",
       "        ...,\n",
       "        [ 0.0137325 , -0.04943261,  0.02170804, ...,  0.01807571,\n",
       "          0.00421626, -0.02734009],\n",
       "        [ 0.01247823,  0.02827907,  0.02457387, ...,  0.01969038,\n",
       "          0.00136918,  0.02235809],\n",
       "        [ 0.01957338, -0.00314963, -0.01193082, ..., -0.02420428,\n",
       "         -0.04705715, -0.00943756]],\n",
       "\n",
       "       ...,\n",
       "\n",
       "       [[ 0.03032095, -0.02096602, -0.02323606, ..., -0.01869579,\n",
       "          0.03066248, -0.04427495],\n",
       "        [ 0.03032095, -0.02096602, -0.02323606, ..., -0.01869579,\n",
       "          0.03066248, -0.04427495],\n",
       "        [ 0.03032095, -0.02096602, -0.02323606, ..., -0.01869579,\n",
       "          0.03066248, -0.04427495],\n",
       "        ...,\n",
       "        [ 0.04253345, -0.0332736 , -0.04923763, ..., -0.00537141,\n",
       "         -0.04364554, -0.03957862],\n",
       "        [ 0.00710074, -0.0041574 , -0.04505371, ..., -0.0157787 ,\n",
       "          0.04166074, -0.01313362],\n",
       "        [-0.02199437, -0.03625826,  0.00324523, ...,  0.01535746,\n",
       "         -0.01581819,  0.0106701 ]],\n",
       "\n",
       "       [[ 0.03032095, -0.02096602, -0.02323606, ..., -0.01869579,\n",
       "          0.03066248, -0.04427495],\n",
       "        [ 0.03032095, -0.02096602, -0.02323606, ..., -0.01869579,\n",
       "          0.03066248, -0.04427495],\n",
       "        [ 0.03032095, -0.02096602, -0.02323606, ..., -0.01869579,\n",
       "          0.03066248, -0.04427495],\n",
       "        ...,\n",
       "        [-0.04651181,  0.04589008, -0.03442837, ..., -0.01156675,\n",
       "         -0.04594515, -0.03332112],\n",
       "        [ 0.03328233,  0.0190309 ,  0.00835326, ...,  0.01954504,\n",
       "         -0.04480321,  0.03297548],\n",
       "        [ 0.04785614,  0.00028289, -0.03772465, ..., -0.04387386,\n",
       "         -0.02442981, -0.00644448]],\n",
       "\n",
       "       [[ 0.03032095, -0.02096602, -0.02323606, ..., -0.01869579,\n",
       "          0.03066248, -0.04427495],\n",
       "        [ 0.03032095, -0.02096602, -0.02323606, ..., -0.01869579,\n",
       "          0.03066248, -0.04427495],\n",
       "        [ 0.03032095, -0.02096602, -0.02323606, ..., -0.01869579,\n",
       "          0.03066248, -0.04427495],\n",
       "        ...,\n",
       "        [ 0.04710665,  0.02674553,  0.00565886, ...,  0.01658782,\n",
       "          0.01618933,  0.00377656],\n",
       "        [-0.03367318, -0.04938127, -0.02733684, ...,  0.03470268,\n",
       "         -0.01759974,  0.02189255],\n",
       "        [ 0.0260773 ,  0.03334028,  0.02947262, ..., -0.02616835,\n",
       "          0.00712604,  0.02566754]]], dtype=float32)"
      ]
     },
     "execution_count": 36,
     "metadata": {},
     "output_type": "execute_result"
    }
   ],
   "source": [
    "model.predict(pad)"
   ]
  },
  {
   "cell_type": "code",
   "execution_count": null,
   "id": "1d6b72c8-90f1-4842-8bce-ad6556681088",
   "metadata": {},
   "outputs": [],
   "source": []
  },
  {
   "cell_type": "code",
   "execution_count": null,
   "id": "b6f32472-53c2-4b9a-a6be-99929fb20177",
   "metadata": {},
   "outputs": [],
   "source": []
  },
  {
   "cell_type": "code",
   "execution_count": null,
   "id": "8265812a-35f6-4308-bfd9-a8766065da9e",
   "metadata": {},
   "outputs": [],
   "source": []
  },
  {
   "cell_type": "code",
   "execution_count": null,
   "id": "32422076-3308-483b-8440-5df3b6e7e96b",
   "metadata": {},
   "outputs": [],
   "source": []
  },
  {
   "cell_type": "code",
   "execution_count": null,
   "id": "d536b445-604b-4fe5-a409-4477ee3a6318",
   "metadata": {},
   "outputs": [],
   "source": []
  },
  {
   "cell_type": "code",
   "execution_count": null,
   "id": "13059ecc-f750-41c5-bba5-467967939352",
   "metadata": {},
   "outputs": [],
   "source": []
  },
  {
   "cell_type": "code",
   "execution_count": null,
   "id": "9e8e28cf-d0d1-44a6-9226-1fb9a3bb06cc",
   "metadata": {},
   "outputs": [],
   "source": []
  },
  {
   "cell_type": "code",
   "execution_count": null,
   "id": "2964b22e-b180-492d-b59c-d0a4a1344c71",
   "metadata": {},
   "outputs": [],
   "source": []
  },
  {
   "cell_type": "code",
   "execution_count": null,
   "id": "672365e0-c5fc-4007-be7f-f1faa5686602",
   "metadata": {},
   "outputs": [],
   "source": []
  }
 ],
 "metadata": {
  "kernelspec": {
   "display_name": "Python [conda env:base] *",
   "language": "python",
   "name": "conda-base-py"
  },
  "language_info": {
   "codemirror_mode": {
    "name": "ipython",
    "version": 3
   },
   "file_extension": ".py",
   "mimetype": "text/x-python",
   "name": "python",
   "nbconvert_exporter": "python",
   "pygments_lexer": "ipython3",
   "version": "3.12.7"
  }
 },
 "nbformat": 4,
 "nbformat_minor": 5
}
